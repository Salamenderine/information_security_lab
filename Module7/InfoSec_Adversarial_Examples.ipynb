{
  "cells": [
    {
      "cell_type": "markdown",
      "metadata": {
        "id": "6xO-XBsYMOiR"
      },
      "source": [
        "#Setup"
      ]
    },
    {
      "cell_type": "code",
      "execution_count": 1,
      "metadata": {
        "colab": {
          "base_uri": "https://localhost:8080/"
        },
        "id": "BHkSCcGWfkls",
        "outputId": "71508319-2559-4033-8be0-bcd250d81157"
      },
      "outputs": [
        {
          "output_type": "stream",
          "name": "stdout",
          "text": [
            "Mounted at /content/drive\n"
          ]
        }
      ],
      "source": [
        "try:\n",
        "  # mount your google drive to get permanent storage for your results\n",
        "  from google.colab import drive\n",
        "  drive.mount('/content/drive')\n",
        "\n",
        "  RESULTS_PATH = \"/content/drive/MyDrive/infoseclab_ML/results\"\n",
        "except ModuleNotFoundError:\n",
        "  RESULTS_PATH = \"results\"\n",
        "\n",
        "!mkdir -p {RESULTS_PATH}"
      ]
    },
    {
      "cell_type": "code",
      "execution_count": 2,
      "metadata": {
        "id": "aCjvBq6rL0n1",
        "colab": {
          "base_uri": "https://localhost:8080/"
        },
        "outputId": "bfa00508-a7a1-470b-cc22-54bb3a871be0"
      },
      "outputs": [
        {
          "output_type": "stream",
          "name": "stdout",
          "text": [
            "Cloning into 'infoseclab'...\n",
            "remote: Enumerating objects: 321, done.\u001b[K\n",
            "remote: Counting objects: 100% (40/40), done.\u001b[K\n",
            "remote: Compressing objects: 100% (29/29), done.\u001b[K\n",
            "remote: Total 321 (delta 13), reused 31 (delta 10), pack-reused 281\u001b[K\n",
            "Receiving objects: 100% (321/321), 64.87 MiB | 17.08 MiB/s, done.\n",
            "Resolving deltas: 100% (139/139), done.\n",
            "/content/infoseclab\n",
            "From https://github.com/ethz-privsec/infoseclab\n",
            " * branch            HEAD       -> FETCH_HEAD\n",
            "Already up to date.\n",
            "/content\n"
          ]
        }
      ],
      "source": [
        "import sys\n",
        "\n",
        "# Lab files\n",
        "![ ! -d 'infoseclab' ] && git clone https://github.com/ethz-privsec/infoseclab.git\n",
        "%cd infoseclab\n",
        "!git pull https://github.com/ethz-privsec/infoseclab.git\n",
        "%cd ..\n",
        "if \"infoseclab\" not in sys.path:\n",
        "  sys.path.append(\"infoseclab\")"
      ]
    },
    {
      "cell_type": "markdown",
      "metadata": {
        "id": "LXC5q0RvNhhh"
      },
      "source": [
        "#Imports"
      ]
    },
    {
      "cell_type": "code",
      "execution_count": 3,
      "metadata": {
        "id": "Uwi_QoU9Nguf"
      },
      "outputs": [],
      "source": [
        "import torch\n",
        "import numpy as np\n",
        "import infoseclab\n",
        "from infoseclab import defenses, attacks, ImageNet, EPSILON, utils, evaluation\n",
        "import os\n",
        "from zipfile import ZipFile\n",
        "\n",
        "device = \"cuda\"\n",
        "# device = 'cpu'"
      ]
    },
    {
      "cell_type": "markdown",
      "metadata": {
        "id": "HV7wnlsjNyYb"
      },
      "source": [
        "# 0.&nbsp;Untargeted attack on ResNet-50\n",
        "\n",
        "We will first run an *untargeted* attack, where the goal is to get the model to misclassify an input `(x, y)` as any incorrect class `y'`.\n",
        "\n",
        "Familiarize yourself with the provided code for a basic PGD attack. The attack is applied to clean images from ImageNet (`ImageNet.clean_images`) with their true labels (`ImageNet.labels`).\n",
        "\n"
      ]
    },
    {
      "cell_type": "code",
      "execution_count": null,
      "metadata": {
        "colab": {
          "base_uri": "https://localhost:8080/",
          "height": 370,
          "referenced_widgets": [
            "6549acccd4b64639bf120f074238a521",
            "5e80129a3e504e00a4c4fa96e1de0b71",
            "c7c438419df043cdab28861ec81d3ff3",
            "5787089320b4421a977dd69ea6e9c81f",
            "9a3f54b0731243c183b60c7dea5783f7",
            "365d1d261f70486ab2cea161ee6eb1a1",
            "1cfeebc9cb474b45ab970a077fbff54d",
            "84b3d28bdebb4ff697ec66b1f286f51b",
            "0d9c03f9e6154db1a595a9172cfe014b",
            "c709afe60bd744a39f1e1497647b439e",
            "2901e580c30b4f9e9668be94883beeb6"
          ]
        },
        "id": "bEsJ9nz_N11y",
        "outputId": "fec779c4-126e-4a24-857c-1d1165945974"
      },
      "outputs": [
        {
          "name": "stderr",
          "output_type": "stream",
          "text": [
            "/usr/local/lib/python3.8/dist-packages/torchvision/models/_utils.py:208: UserWarning: The parameter 'pretrained' is deprecated since 0.13 and may be removed in the future, please use 'weights' instead.\n",
            "  warnings.warn(\n",
            "/usr/local/lib/python3.8/dist-packages/torchvision/models/_utils.py:223: UserWarning: Arguments other than a weight enum or `None` for 'weights' are deprecated since 0.13 and may be removed in the future. The current behavior is equivalent to passing `weights=ResNet50_Weights.IMAGENET1K_V1`. You can also use `weights=ResNet50_Weights.DEFAULT` to get the most up-to-date weights.\n",
            "  warnings.warn(msg)\n",
            "Downloading: \"https://download.pytorch.org/models/resnet50-0676ba61.pth\" to /root/.cache/torch/hub/checkpoints/resnet50-0676ba61.pth\n"
          ]
        },
        {
          "data": {
            "application/vnd.jupyter.widget-view+json": {
              "model_id": "6549acccd4b64639bf120f074238a521",
              "version_major": 2,
              "version_minor": 0
            },
            "text/plain": [
              "  0%|          | 0.00/97.8M [00:00<?, ?B/s]"
            ]
          },
          "metadata": {},
          "output_type": "display_data"
        },
        {
          "name": "stderr",
          "output_type": "stream",
          "text": [
            "100%|██████████| 10/10 [00:48<00:00,  4.84s/it]\n"
          ]
        },
        {
          "name": "stdout",
          "output_type": "stream",
          "text": [
            "=== Evaluating untargeted PGD ===\n",
            "\u001b[32m\tclean accuracy: 100.0%\u001b[0m\n",
            "\u001b[32m\tadv accuracy: 0.0% (goal: ≤ 1.0%)\u001b[0m\n",
            "\u001b[32mSUCCESS\u001b[0m\n"
          ]
        },
        {
          "data": {
            "image/png": "[encoded data removed]",
            "text/plain": [
              "<Figure size 432x288 with 3 Axes>"
            ]
          },
          "metadata": {},
          "output_type": "display_data"
        }
      ],
      "source": [
        "resnet = defenses.ResNet(device)\n",
        "pgd = attacks.PGD(steps=20, epsilon=EPSILON, step_size=2.5 * EPSILON / 20, clf=resnet)\n",
        "x_adv = pgd.attack_all(ImageNet.clean_images, ImageNet.labels, verbose=False)\n",
        "\n",
        "utils.save_images(os.path.join(RESULTS_PATH, \"x_adv_untargeted.npy\"), x_adv)\n",
        "evaluation.eval_untargeted_pgd(os.path.join(RESULTS_PATH, \"x_adv_untargeted.npy\"), device)\n",
        "\n",
        "idx = 0\n",
        "input = torch.stack([x_adv[idx], ImageNet.clean_images[idx]]).to(device)\n",
        "logits = resnet.get_logits(input)\n",
        "utils.display(x_adv[idx], image_orig=ImageNet.clean_images[idx], logits=logits)"
      ]
    },
    {
      "cell_type": "markdown",
      "metadata": {
        "id": "XW_kKeh1VZ5C"
      },
      "source": [
        "#1.&nbsp;Targeted attack on ResNet-50 \n",
        "\n",
        "The previous attack lowers the model's accuracy to 0%, but the mistakes are sometimes understandable (e.g., misclassifying a bowl of unripe \"rose hips\" as \"oranges\").\n",
        "\n",
        "You will now implement a *targeted* attack, where the goal is to get the model to misclassify an input `(x, y)` as a *specific* incorrect class `y'`.\n",
        "\n",
        "For this, you will amend the previous PGD attack to take as input a list of targets `ImageNet.targets` (one target class per input).\n"
      ]
    },
    {
      "cell_type": "code",
      "execution_count": null,
      "metadata": {
        "colab": {
          "base_uri": "https://localhost:8080/"
        },
        "id": "U0lyNx1baNzR",
        "outputId": "4607858e-e50a-4839-bebb-477b74d7f323"
      },
      "outputs": [
        {
          "name": "stderr",
          "output_type": "stream",
          "text": [
            "100%|██████████| 10/10 [00:41<00:00,  4.17s/it]\n"
          ]
        },
        {
          "name": "stdout",
          "output_type": "stream",
          "text": [
            "=== Evaluating targeted PGD ===\n",
            "\u001b[32m\tclean accuracy: 100.0%\u001b[0m\n",
            "\u001b[32m\tadv accuracy: 0.5% (goal: ≤ 1.0%)\u001b[0m\n",
            "\u001b[32m\tadv target accuracy: 99.5% (goal: ≥99.0%)\u001b[0m\n",
            "\u001b[32mSUCCESS\u001b[0m\n"
          ]
        }
      ],
      "source": [
        "class PGD_Targeted(attacks.PGD):\n",
        "    \"\"\"\n",
        "    A targeted PGD attack.\n",
        "    \"\"\"\n",
        "    \n",
        "    def __init__(self, steps, epsilon, step_size, clf):\n",
        "        \"\"\"\n",
        "        :param steps: the number of gradient steps to take\n",
        "        :param epsilon: the maximum perturbation allowed\n",
        "        :param step_size: the size of the gradient step\n",
        "        :param clf: the classifier to attack\n",
        "        \"\"\"\n",
        "        super().__init__(steps, epsilon, step_size, clf)\n",
        "\n",
        "    def attack_batch(self, x, y_targets, verbose=False):\n",
        "        \"\"\"\n",
        "        Attack a batch of images with targeted PGD.\n",
        "        :param x: the batch of images (torch tensors) to attack of size (batch_size, 3, 224, 224)\n",
        "        :param y: the target labels of size (batch_size,)\n",
        "        :param verbose: whether to print the progress of the attack\n",
        "        :return: the adversarial images of size (batch_size, 3, 224, 224)\n",
        "        \"\"\"\n",
        "        x_adv = torch.clone(x)\n",
        "\n",
        "        for i in range(self.steps):\n",
        "            # we want gradients to flow all the way to the model inputs\n",
        "            x_adv = x_adv.requires_grad_(True)\n",
        "\n",
        "            # compute the current loss\n",
        "            pred = self.clf.get_logits(x_adv)\n",
        "            loss = torch.nn.CrossEntropyLoss()(pred, y_targets)\n",
        "\n",
        "            if verbose:\n",
        "                confidence = torch.exp(-loss)\n",
        "                print(f\"{i}\\t loss: {loss.item():.2e}, confidence: {confidence.item():.2e}\")\n",
        "\n",
        "            # compute the gradient of the loss with respect to the input pixels\n",
        "            # and take an update step in the direction of the signed gradient\n",
        "            loss.backward()\n",
        "            grad = x_adv.grad.detach()\n",
        "\n",
        "            # we don't need any gradients for the rest of the attack\n",
        "            with torch.no_grad():\n",
        "                # take a step in the direction of the gradient to maximize the loss\n",
        "                x_adv = x_adv - self.step_size * torch.sign(grad)\n",
        "\n",
        "                # project back onto the epsilon ball\n",
        "                x_adv = self.project(x_adv, x)\n",
        "\n",
        "        return x_adv.detach()\n",
        "\n",
        "resnet = defenses.ResNet(device)\n",
        "pgd_t = PGD_Targeted(steps=20, epsilon=EPSILON, step_size=2.5 * EPSILON / 20, clf=resnet)\n",
        "x_adv_t = pgd_t.attack_all(ImageNet.clean_images, ImageNet.targets, verbose=False)\n",
        "\n",
        "utils.save_images(os.path.join(RESULTS_PATH, \"x_adv_targeted.npy\"), x_adv_t)\n",
        "evaluation.eval_targeted_pgd(os.path.join(RESULTS_PATH, \"x_adv_targeted.npy\"), device)"
      ]
    },
    {
      "cell_type": "markdown",
      "metadata": {
        "id": "m9myeLu4a5xB"
      },
      "source": [
        "# 2.&nbsp;Evading Detection\n",
        "\n",
        "It turns out that \"naive\" adversarial examples are very easy to *detect*.\n",
        "So one could build a defense that aims to detect when an input has been perturbed, to reject it and raise an alarm.\n",
        "\n",
        "Unfortunately, as we'll see such defenses are hard to make robust against an *adaptive* attacker that also optimizes over the detector."
      ]
    },
    {
      "cell_type": "code",
      "execution_count": null,
      "metadata": {
        "colab": {
          "base_uri": "https://localhost:8080/"
        },
        "id": "wEsVJ2M3a5Ku",
        "outputId": "569441ea-4d10-40e6-956c-c6be3a0628ea"
      },
      "outputs": [
        {
          "name": "stdout",
          "output_type": "stream",
          "text": [
            "=== Evaluating targeted PGD with Detection ===\n",
            "\u001b[32m\tclean accuracy: 100.0%\u001b[0m\n",
            "\u001b[32m\tadv accuracy: 0.5% (goal: ≤ 1.0%)\u001b[0m\n",
            "\u001b[32m\tadv target accuracy: 99.5% (goal: ≥99.0%)\u001b[0m\n",
            "\u001b[32m\tclean examples detected: 2.5% (goal: ≤5.0%)\u001b[0m\n",
            "\u001b[31m\tadv examples detected: 97.5% (goal: ≤1.0%)\u001b[0m\n",
            "\u001b[31mNOT THERE YET!\u001b[0m\n"
          ]
        }
      ],
      "source": [
        "# Our previous attack is easily detected\n",
        "evaluation.eval_detector_attack(os.path.join(RESULTS_PATH, \"x_adv_targeted.npy\"),\n",
        "                                detector_path=\"infoseclab/data/detector.pth\",\n",
        "                                device=device)"
      ]
    },
    {
      "cell_type": "markdown",
      "metadata": {
        "id": "XdM1aIZiyany"
      },
      "source": [
        "You will now implement a targeted attack against the `ResNetDetector` defense.\n",
        "This defense takes the standard `ResNet` classifier from before, and adds an additional detector module.\n",
        "\n",
        "The defense can be used for classification, in which case it outputs an array of scores for each of the 1000 classes, for each input:\n",
        "\n",
        "```\n",
        "resnet_det = ResNetDetector(device)\n",
        "resnet_det.get_logits(x) -> [N, 1000]\n",
        "```\n",
        "\n",
        "To obtain a detector, we trained a *binary* classifier that takes in an input and outputs binary logits for the task of distinguishing clean images (class 0) from adversarially perturbed ones (class 1):\n",
        "\n",
        "```\n",
        "resnet_det = ResNetDetector(device)\n",
        "resnet_det.get_detection_logits(x) -> [N, 2]\n",
        "```\n",
        "\n",
        "*(the classifier and detector actually share most of their implementation.\n",
        "The original ResNet classifier is of the form `g(f(x))` where `f` is a <u>feature extractor</u> that maps inputs to feature vectors, and `g` is a <u>linear layer</u> that maps a feature vector to a vector of 1000 class scores.\n",
        "The detector takes as input the same feature vector `f(x)`, and applies a different linear layer `g_det` that maps the features to a vector of 2 class scores.\n",
        "See `infoseclab.defenses.defense_detector.ResNetDetector` for details).*\n",
        "\n",
        "Note: You are allowed to use the `ResNetDetector` module in your attack, but you are not allowed to modify it."
      ]
    },
    {
      "cell_type": "code",
      "execution_count": null,
      "metadata": {
        "id": "Ei8L4Kv9uHYb"
      },
      "outputs": [],
      "source": [
        "torch.stack([torch.ones((100)), torch.zeros((100))], axis=1)"
      ]
    },
    {
      "cell_type": "code",
      "execution_count": null,
      "metadata": {
        "colab": {
          "base_uri": "https://localhost:8080/"
        },
        "id": "W7V6HnP5b4LR",
        "outputId": "ddb5ae41-2193-4bbf-9f68-286247b2b572"
      },
      "outputs": [
        {
          "name": "stderr",
          "output_type": "stream",
          "text": [
            "100%|██████████| 10/10 [01:22<00:00,  8.27s/it]\n"
          ]
        },
        {
          "name": "stdout",
          "output_type": "stream",
          "text": [
            "=== Evaluating targeted PGD with Detection ===\n",
            "\u001b[32m\tclean accuracy: 100.0%\u001b[0m\n",
            "\u001b[32m\tadv accuracy: 0.0% (goal: ≤ 1.0%)\u001b[0m\n",
            "\u001b[32m\tadv target accuracy: 100.0% (goal: ≥99.0%)\u001b[0m\n",
            "\u001b[32m\tclean examples detected: 2.5% (goal: ≤5.0%)\u001b[0m\n",
            "\u001b[32m\tadv examples detected: 0.0% (goal: ≤1.0%)\u001b[0m\n",
            "\u001b[32mSUCCESS\u001b[0m\n"
          ]
        }
      ],
      "source": [
        "class PGD_Det(attacks.PGD):\n",
        "    \"\"\"\n",
        "    A targeted PGD attack that also tries to evade detection.\n",
        "    \"\"\"\n",
        "    \n",
        "    def __init__(self, steps, epsilon, step_size, clf):\n",
        "        \"\"\"\n",
        "        :param steps: the number of gradient steps to take\n",
        "        :param epsilon: the maximum perturbation allowed\n",
        "        :param step_size: the size of the gradient step\n",
        "        :param clf: the classifier to attack\n",
        "        \"\"\"\n",
        "        super().__init__(steps, epsilon, step_size, clf)\n",
        "\n",
        "    def attack_batch(self, x, y_targets, verbose=False):\n",
        "        \"\"\"\n",
        "        Attack a batch of images with targeted PGD while also evading detection.\n",
        "        :param x: the batch of images (torch tensors) to attack of size (batch_size, 3, 224, 224)\n",
        "        :param y_targets: the target labels of size (batch_size,)\n",
        "        :param verbose: whether to print the progress of the attack\n",
        "        :return: the adversarial images of size (batch_size, 3, 224, 224)\n",
        "        \"\"\"\n",
        "        x_adv = torch.clone(x)\n",
        "\n",
        "        for i in range(self.steps):\n",
        "            # we want gradients to flow all the way to the model inputs\n",
        "            x_adv = x_adv.requires_grad_(True)\n",
        "\n",
        "            # compute the current loss\n",
        "            pred = self.clf.get_logits(x_adv)\n",
        "            loss = torch.nn.CrossEntropyLoss()(pred, y_targets)\n",
        "            detect = self.clf.get_detection_logits(x_adv)\n",
        "            tar = torch.stack([torch.ones((len(y_targets))), torch.zeros((len(y_targets)))], axis=1).to(device)\n",
        "            loss_d = torch.nn.CrossEntropyLoss()(detect, tar)\n",
        "\n",
        "            loss += loss_d\n",
        "\n",
        "            if verbose:\n",
        "                confidence = torch.exp(-loss)\n",
        "                print(f\"{i}\\t loss: {loss.item():.2e}, confidence: {confidence.item():.2e}\")\n",
        "\n",
        "            # compute the gradient of the loss with respect to the input pixels\n",
        "            # and take an update step in the direction of the signed gradient\n",
        "            loss.backward()\n",
        "            grad = x_adv.grad.detach()\n",
        "\n",
        "            # we don't need any gradients for the rest of the attack\n",
        "            with torch.no_grad():\n",
        "                # take a step in the direction of the gradient to maximize the loss\n",
        "                x_adv = x_adv - self.step_size * torch.sign(grad)\n",
        "\n",
        "                # project back onto the epsilon ball\n",
        "                x_adv = self.project(x_adv, x)\n",
        "\n",
        "        return x_adv.detach()\n",
        "\n",
        "defense_det = defenses.ResNetDetector(device, detector_path=\"infoseclab/data/detector.pth\")\n",
        "pgd_det = PGD_Det(steps=20, epsilon=EPSILON, step_size=2.5 * EPSILON / 20, clf=defense_det)\n",
        "x_adv_det = pgd_det.attack_all(ImageNet.clean_images, ImageNet.targets, verbose=False)\n",
        "\n",
        "utils.save_images(os.path.join(RESULTS_PATH, \"x_adv_detect.npy\"), x_adv_det)\n",
        "evaluation.eval_detector_attack(os.path.join(RESULTS_PATH, \"x_adv_detect.npy\"), device=device)"
      ]
    },
    {
      "cell_type": "markdown",
      "metadata": {
        "id": "EdorMrPt-Vpf"
      },
      "source": [
        "#3.&nbsp; Preprocessing Defenses (pick one!)\n",
        "\n",
        "We are now going to look at two simple defenses against adversarial examples that aim to resist noise by *pre-processing* the input before classifying it.\n",
        "\n",
        "**Your goal is to break <u>ONE</u> of these two defenses (you can choose which one you prefer)!**\n",
        "\n",
        "<ul>\n",
        "  <li> 3.1. JPEG Compression </li>\n",
        "  <li> 3.2. Random cropping and noising </li>\n",
        "<ul>"
      ]
    },
    {
      "cell_type": "markdown",
      "metadata": {
        "id": "3y_q-ox3c_qb"
      },
      "source": [
        "##3.1&nbsp; JPEG Compression\n",
        "\n",
        "A natural defense idea is to try and remove the noise from adversarial images. A simple way of trying to do that is to compress images before classifying them, e.g., with JPEG.\n",
        "\n",
        "The `ResNetJPEG` defense implements this."
      ]
    },
    {
      "cell_type": "code",
      "execution_count": null,
      "metadata": {
        "colab": {
          "base_uri": "https://localhost:8080/",
          "height": 337,
          "referenced_widgets": [
            "45823c1d397c41b8beced2004a519c67",
            "2cb80935b23140c7a4d79be92e6adad5",
            "b2aea969dac94071854b59307d3a27fb",
            "72c382b98c494ca5a7c5d9f76836875d",
            "2110935fd7cf49ac9ac51c43f1a1a06e",
            "793bd08559a144cba25683095da5a312",
            "d4fea336db904e20acd6c1d2fa598256",
            "abbbc4acadd0433889a3e7b4dabdb544",
            "b75c4b952c1441b58dc21d3d754c2b35",
            "31c8f0572b474ab68a1415f92dbf95de",
            "151c2fe1f4d44ca5b60e861fc63c55b1"
          ]
        },
        "id": "jyDfOTPtdE_n",
        "outputId": "3a5aa791-7a66-4cd4-cfb5-e093d0bdfc96"
      },
      "outputs": [
        {
          "name": "stdout",
          "output_type": "stream",
          "text": [
            "=== Evaluating targeted PGD on JPEG defense ===\n"
          ]
        },
        {
          "name": "stderr",
          "output_type": "stream",
          "text": [
            "/usr/local/lib/python3.8/dist-packages/torchvision/models/_utils.py:208: UserWarning: The parameter 'pretrained' is deprecated since 0.13 and may be removed in the future, please use 'weights' instead.\n",
            "  warnings.warn(\n",
            "/usr/local/lib/python3.8/dist-packages/torchvision/models/_utils.py:223: UserWarning: Arguments other than a weight enum or `None` for 'weights' are deprecated since 0.13 and may be removed in the future. The current behavior is equivalent to passing `weights=ResNet50_Weights.IMAGENET1K_V1`. You can also use `weights=ResNet50_Weights.DEFAULT` to get the most up-to-date weights.\n",
            "  warnings.warn(msg)\n",
            "Downloading: \"https://download.pytorch.org/models/resnet50-0676ba61.pth\" to /root/.cache/torch/hub/checkpoints/resnet50-0676ba61.pth\n"
          ]
        },
        {
          "data": {
            "application/vnd.jupyter.widget-view+json": {
              "model_id": "45823c1d397c41b8beced2004a519c67",
              "version_major": 2,
              "version_minor": 0
            },
            "text/plain": [
              "  0%|          | 0.00/97.8M [00:00<?, ?B/s]"
            ]
          },
          "metadata": {},
          "output_type": "display_data"
        },
        {
          "name": "stdout",
          "output_type": "stream",
          "text": [
            "\u001b[32m\tclean accuracy: 94.0%\u001b[0m\n",
            "\u001b[31m\tadv accuracy: 62.0% (goal: ≤ 1.0%)\u001b[0m\n",
            "\u001b[31m\tadv target accuracy: 13.500000953674316% (goal: ≥99.0%)\u001b[0m\n",
            "\u001b[31mNOT THERE YET!\u001b[0m\n",
            "=== Evaluating targeted PGD on JPEG defense ===\n",
            "\u001b[32m\tclean accuracy: 94.0%\u001b[0m\n",
            "\u001b[31m\tadv accuracy: 62.0% (goal: ≤ 1.0%)\u001b[0m\n",
            "\u001b[31m\tadv target accuracy: 14.0% (goal: ≥99.0%)\u001b[0m\n",
            "\u001b[31mNOT THERE YET!\u001b[0m\n"
          ]
        }
      ],
      "source": [
        "# Neither of our attacks survives JPEG compression\n",
        "evaluation.eval_jpeg_attack(os.path.join(RESULTS_PATH, \"x_adv_targeted.npy\"), device)\n",
        "evaluation.eval_jpeg_attack(os.path.join(RESULTS_PATH, \"x_adv_detect.npy\"), device)"
      ]
    },
    {
      "cell_type": "markdown",
      "metadata": {
        "id": "lTr4mUvc1UAK"
      },
      "source": [
        "Your goal is to create a targeted PGD attack that will defeat JPEG compression.\n",
        "In this part, you **don't** need to ensure that the attack stays undetected.\n",
        "\n",
        "**For this attack (<u>and only for this attack</u>), you are allowed to import additional modules from GitHub if you want. However, you are not allowed to use any external modules that implement adversarial examples attacks (e.g., cleverhans, foolbox, etc.)</br>\n",
        "If you're unsure if a module is ok to use, please ask!**\n",
        "\n",
        "External modules can be added in different ways:\n",
        "*   using PIP: `!pip install XXX`\n",
        "*   by cloning a github repository locally (replace the git URL and RESPOSITORY_NAME accordingly):\n",
        "\n",
        "```\n",
        "!git clone {URL}\n",
        "if {RESPOSITORY_NAME} not in sys.path:\n",
        "  sys.path.append(\"{RESPOSITORY_NAME}\")\n",
        "```\n",
        "\n"
      ]
    },
    {
      "cell_type": "code",
      "execution_count": null,
      "metadata": {
        "colab": {
          "background_save": true,
          "base_uri": "https://localhost:8080/"
        },
        "id": "GlbbYrsIgnsc",
        "outputId": "207c5502-d468-472a-bcd8-fe789e6e635e"
      },
      "outputs": [
        {
          "name": "stderr",
          "output_type": "stream",
          "text": [
            "100%|██████████| 10/10 [43:27<00:00, 260.74s/it]\n"
          ]
        },
        {
          "name": "stdout",
          "output_type": "stream",
          "text": [
            "=== Evaluating targeted PGD on JPEG defense ===\n",
            "\u001b[32m\tclean accuracy: 94.0%\u001b[0m\n",
            "\u001b[32m\tadv accuracy: 0.0% (goal: ≤ 1.0%)\u001b[0m\n",
            "\u001b[32m\tadv target accuracy: 100.0% (goal: ≥99.0%)\u001b[0m\n",
            "\u001b[32mSUCCESS\u001b[0m\n"
          ]
        }
      ],
      "source": [
        "class PGD_JPEG(attacks.PGD):\n",
        "    \"\"\"\n",
        "    A targeted PGD attack that tries to resist JPEG compression.\n",
        "    \"\"\"\n",
        "\n",
        "    def __init__(self, steps, epsilon, step_size, clf):\n",
        "        \"\"\"\n",
        "        :param steps: the number of gradient steps to take\n",
        "        :param epsilon: the maximum perturbation allowed\n",
        "        :param step_size: the size of the gradient step\n",
        "        :param clf: the classifier to attack\n",
        "        \"\"\"\n",
        "        super().__init__(steps, epsilon, step_size, clf)\n",
        "\n",
        "        \n",
        "    def attack_batch(self, x, y_targets, verbose=False):\n",
        "        \"\"\"\n",
        "        Attack a batch of images with targeted PGD while also resisting JPEG compression.\n",
        "        :param x: the batch of images (torch tensors) to attack of size (batch_size, 3, 224, 224)\n",
        "        :param y_targets: the target labels of size (batch_size,)\n",
        "        :param verbose: whether to print the progress of the attack\n",
        "        :return: the adversarial images of size (batch_size, 3, 224, 224)\n",
        "        \"\"\"\n",
        "        x_adv = torch.clone(x)\n",
        "\n",
        "        for i in range(self.steps):\n",
        "            # we want gradients to flow all the way to the model inputs\n",
        "            tempt = defenses.defense_jpeg.images_to_JPEG(x_adv)\n",
        "            tempt = tempt.requires_grad_(True)\n",
        "\n",
        "            # compute the current loss\n",
        "            pred = defenses.ResNet(device).get_logits(tempt)\n",
        "            loss = torch.nn.CrossEntropyLoss()(pred, y_targets) + torch.norm(x_adv-x)**2 / torch.norm(x)**2\n",
        "\n",
        "            if verbose:\n",
        "                confidence = torch.exp(-loss)\n",
        "                print(f\"{i}\\t loss: {loss.item():.2e}, confidence: {confidence.item():.2e}\")\n",
        "\n",
        "            # compute the gradient of the loss with respect to the input pixels\n",
        "            # and take an update step in the direction of the signed gradient\n",
        "            loss.backward()\n",
        "            grad = tempt.grad.detach()\n",
        "\n",
        "            # we don't need any gradients for the rest of the attack\n",
        "            with torch.no_grad():\n",
        "                # take a step in the direction of the gradient to maximize the loss\n",
        "                x_adv = x_adv - self.step_size * torch.sign(grad)\n",
        "\n",
        "                # project back onto the epsilon ball\n",
        "                x_adv = self.project(x_adv, x)\n",
        "\n",
        "        return x_adv.detach()\n",
        "\n",
        "defense = defenses.ResNetJPEG(device)\n",
        "pgd_jpeg = PGD_JPEG(steps=20, epsilon=EPSILON, step_size=2.5 * EPSILON / 20, clf=defense)\n",
        "x_adv_jpeg = pgd_jpeg.attack_all(ImageNet.clean_images, ImageNet.targets, verbose=False)\n",
        "\n",
        "utils.save_images(os.path.join(RESULTS_PATH, \"x_adv_jpeg.npy\"), x_adv_jpeg)\n",
        "evaluation.eval_jpeg_attack(os.path.join(RESULTS_PATH, \"x_adv_jpeg.npy\"), device)"
      ]
    },
    {
      "cell_type": "markdown",
      "metadata": {
        "id": "ag6TwSfy_Y8Z"
      },
      "source": [
        "##3.2&nbsp; Randomized cropping and noising\n",
        "\n",
        "Another natural defense idea is to try and *randomize* the model's behavior to make it harder to create adversarial examples.\n",
        "\n",
        "The ResNetRandom defense implements this, by randomly cropping and noising input images before classifying them."
      ]
    },
    {
      "cell_type": "code",
      "execution_count": null,
      "metadata": {
        "colab": {
          "base_uri": "https://localhost:8080/",
          "height": 337,
          "referenced_widgets": [
            "e96cfe06267e417a8af6ca23cf89bf2c",
            "7a2e0fc032e444b7a82f30c45244c3f8",
            "1c3d25244b1d49c681ffafe137f9f451",
            "38e36a7227a44ddab61cd02108c3d374",
            "73e3a48f66bb45b0bb3895768a444fc5",
            "79769062cff14dd18ac86a840aae1457",
            "eea8470d0eab40ef91c1579b842dc145",
            "858b46fabb034bb49e844c872a1644e6",
            "72de98ae54f3461b8a82fb0a6b963a0a",
            "03c53dab6bcc44f9b04014f969a79c7c",
            "240f3fb56cfc4617989ae5b1d3b5c7a8"
          ]
        },
        "id": "dlXyTEGO_8bl",
        "outputId": "ac45af80-d2e3-49c7-ae0e-48795ff2e1ff"
      },
      "outputs": [
        {
          "name": "stdout",
          "output_type": "stream",
          "text": [
            "=== Evaluating targeted PGD on random defense ===\n"
          ]
        },
        {
          "name": "stderr",
          "output_type": "stream",
          "text": [
            "/usr/local/lib/python3.8/dist-packages/torchvision/models/_utils.py:208: UserWarning: The parameter 'pretrained' is deprecated since 0.13 and may be removed in the future, please use 'weights' instead.\n",
            "  warnings.warn(\n",
            "/usr/local/lib/python3.8/dist-packages/torchvision/models/_utils.py:223: UserWarning: Arguments other than a weight enum or `None` for 'weights' are deprecated since 0.13 and may be removed in the future. The current behavior is equivalent to passing `weights=ResNet50_Weights.IMAGENET1K_V1`. You can also use `weights=ResNet50_Weights.DEFAULT` to get the most up-to-date weights.\n",
            "  warnings.warn(msg)\n",
            "Downloading: \"https://download.pytorch.org/models/resnet50-0676ba61.pth\" to /root/.cache/torch/hub/checkpoints/resnet50-0676ba61.pth\n"
          ]
        },
        {
          "data": {
            "application/vnd.jupyter.widget-view+json": {
              "model_id": "e96cfe06267e417a8af6ca23cf89bf2c",
              "version_major": 2,
              "version_minor": 0
            },
            "text/plain": [
              "  0%|          | 0.00/97.8M [00:00<?, ?B/s]"
            ]
          },
          "metadata": {},
          "output_type": "display_data"
        },
        {
          "name": "stdout",
          "output_type": "stream",
          "text": [
            "\u001b[32m\tclean accuracy: 98.0%\u001b[0m\n",
            "\u001b[31m\tadv accuracy: 62.0% (goal: ≤ 5.0%)\u001b[0m\n",
            "\u001b[31m\tadv target accuracy: 16.5% (goal: ≥95.0%)\u001b[0m\n",
            "\u001b[31mNOT THERE YET!\u001b[0m\n",
            "=== Evaluating targeted PGD on random defense ===\n",
            "\u001b[32m\tclean accuracy: 95.0%\u001b[0m\n",
            "\u001b[31m\tadv accuracy: 51.0% (goal: ≤ 5.0%)\u001b[0m\n",
            "\u001b[31m\tadv target accuracy: 39.0% (goal: ≥95.0%)\u001b[0m\n",
            "\u001b[31mNOT THERE YET!\u001b[0m\n"
          ]
        }
      ],
      "source": [
        "# Neither of our attacks survive random preprocessing\n",
        "evaluation.eval_random_attack(os.path.join(RESULTS_PATH, \"x_adv_targeted.npy\"), device)\n",
        "evaluation.eval_random_attack(os.path.join(RESULTS_PATH, \"x_adv_detect.npy\"), device)"
      ]
    },
    {
      "cell_type": "markdown",
      "metadata": {
        "id": "kW_63qhMAF4h"
      },
      "source": [
        "Your goal is to create a targeted PGD attack that will defeat randomized pre-processing.\n",
        "In this part, you **don't** need to ensure that the attack stays undetected.\n",
        "\n",
        "**Note that since this defense is randomized, the evaluation results might vary slightly from one run to the next. To make sure that your attack passes our final evaluation, try to create an attack that has a few % of slack compared to the evaluation targets (e.g., if we target an adversarial accuracy below 5%, aim to ensure that your attack reaches ~3% or lower)**"
      ]
    },
    {
      "cell_type": "code",
      "execution_count": null,
      "metadata": {
        "colab": {
          "base_uri": "https://localhost:8080/"
        },
        "id": "sH64CeqCAzFC",
        "outputId": "0c14422d-362e-4758-f8a7-745d2c7ce29e"
      },
      "outputs": [
        {
          "name": "stderr",
          "output_type": "stream",
          "text": [
            "/usr/local/lib/python3.8/dist-packages/torchvision/models/_utils.py:208: UserWarning: The parameter 'pretrained' is deprecated since 0.13 and may be removed in the future, please use 'weights' instead.\n",
            "  warnings.warn(\n",
            "/usr/local/lib/python3.8/dist-packages/torchvision/models/_utils.py:223: UserWarning: Arguments other than a weight enum or `None` for 'weights' are deprecated since 0.13 and may be removed in the future. The current behavior is equivalent to passing `weights=ResNet50_Weights.IMAGENET1K_V1`. You can also use `weights=ResNet50_Weights.DEFAULT` to get the most up-to-date weights.\n",
            "  warnings.warn(msg)\n",
            "100%|██████████| 10/10 [01:42<00:00, 10.23s/it]\n"
          ]
        },
        {
          "name": "stdout",
          "output_type": "stream",
          "text": [
            "=== Evaluating targeted PGD on random defense ===\n",
            "\u001b[32m\tclean accuracy: 97.0%\u001b[0m\n",
            "\u001b[32m\tadv accuracy: 0.5% (goal: ≤ 5.0%)\u001b[0m\n",
            "\u001b[32m\tadv target accuracy: 98.0% (goal: ≥95.0%)\u001b[0m\n",
            "\u001b[32mSUCCESS\u001b[0m\n"
          ]
        }
      ],
      "source": [
        "class PGD_Random(attacks.PGD):\n",
        "    \"\"\"\n",
        "    A PGD attack that also tries to resist random preprocessing.\n",
        "    \"\"\"\n",
        "\n",
        "    def __init__(self, steps, epsilon, step_size, clf):\n",
        "        super().__init__(steps, epsilon, step_size, clf)\n",
        "        \n",
        "    def attack_batch(self, x, y_targets, verbose=False, n_samples=5):\n",
        "        \"\"\"\n",
        "        Attack a batch of images with targeted PGD while also evading random preprocessing.\n",
        "        :param x: the batch of images (torch tensors) to attack of size (batch_size, 3, 224, 224)\n",
        "        :param y_targets: the target labels of size (batch_size,)\n",
        "        :param verbose: whether to print the progress of the attack\n",
        "        :return: the adversarial images of size (batch_size, 3, 224, 224)\n",
        "        \"\"\"\n",
        "\n",
        "        x_adv = torch.clone(x)\n",
        "\n",
        "        for i in range(self.steps):\n",
        "            # we want gradients to flow all the way to the model inputs\n",
        "            x_adv = x_adv.requires_grad_(True)\n",
        "\n",
        "            # compute the current loss\n",
        "            loss = 0\n",
        "            for i in range(n_samples):\n",
        "                pred = self.clf.get_logits(x_adv)\n",
        "                loss += torch.nn.CrossEntropyLoss()(pred, y_targets)\n",
        "            loss /= n_samples\n",
        "\n",
        "            if verbose:\n",
        "                confidence = torch.exp(-loss)\n",
        "                print(f\"{i}\\t loss: {loss.item():.2e}, confidence: {confidence.item():.2e}\")\n",
        "\n",
        "            # compute the gradient of the loss with respect to the input pixels\n",
        "            # and take an update step in the direction of the signed gradient\n",
        "            loss.backward()\n",
        "            grad = x_adv.grad.detach()\n",
        "\n",
        "            # we don't need any gradients for the rest of the attack\n",
        "            with torch.no_grad():\n",
        "                # take a step in the direction of the gradient to maximize the loss\n",
        "                x_adv = x_adv - self.step_size * torch.sign(grad)\n",
        "\n",
        "                # project back onto the epsilon ball\n",
        "                x_adv = self.project(x_adv, x)\n",
        "\n",
        "        return x_adv.detach()\n",
        "\n",
        "\n",
        "defense = defenses.ResNetRandom(device)\n",
        "pgd_random = PGD_Random(steps=10, epsilon=EPSILON, step_size=1, clf=defense)\n",
        "x_adv_random = pgd_random.attack_all(ImageNet.clean_images, ImageNet.targets, verbose=False)\n",
        "\n",
        "utils.save_images(os.path.join(RESULTS_PATH, \"x_adv_random.npy\"), x_adv_random)\n",
        "evaluation.eval_random_attack(os.path.join(RESULTS_PATH, \"x_adv_random.npy\"), device)"
      ]
    },
    {
      "cell_type": "markdown",
      "metadata": {
        "id": "9_Cmw-Qj8mLe"
      },
      "source": [
        "# Create submission file (**upload `results.zip` to moodle**)"
      ]
    },
    {
      "cell_type": "code",
      "execution_count": 5,
      "metadata": {
        "colab": {
          "base_uri": "https://localhost:8080/"
        },
        "id": "197yEKu1J_-l",
        "outputId": "bb1f48e3-7b33-49c2-81ee-1d5bb8153cef"
      },
      "outputs": [
        {
          "output_type": "stream",
          "name": "stdout",
          "text": [
            "updating: x_adv_targeted.npy (deflated 10%)\n",
            "updating: x_adv_detect.npy (deflated 10%)\n",
            "updating: x_adv_random.npy (deflated 12%)\n",
            "updating: extraction.json (deflated 25%)\n",
            "updating: x_adv_jpeg.npy (deflated 10%)\n"
          ]
        }
      ],
      "source": [
        "!zip -j -r \"{RESULTS_PATH}/results.zip\" {RESULTS_PATH} --exclude \"*x_adv_untargeted.npy\""
      ]
    },
    {
      "cell_type": "code",
      "execution_count": 6,
      "metadata": {
        "colab": {
          "base_uri": "https://localhost:8080/"
        },
        "id": "yW3j3t9y9ZVO",
        "outputId": "b8913482-baf3-429b-f830-02d7d9d89ef4"
      },
      "outputs": [
        {
          "output_type": "stream",
          "name": "stdout",
          "text": [
            "=== Evaluating targeted PGD ===\n",
            "\u001b[32m\tclean accuracy: 100.0%\u001b[0m\n",
            "\u001b[32m\tadv accuracy: 0.5% (goal: ≤ 1.0%)\u001b[0m\n",
            "\u001b[32m\tadv target accuracy: 99.5% (goal: ≥99.0%)\u001b[0m\n",
            "\u001b[32mSUCCESS\u001b[0m\n",
            "=== Evaluating targeted PGD with Detection ===\n",
            "\u001b[32m\tclean accuracy: 100.0%\u001b[0m\n",
            "\u001b[32m\tadv accuracy: 0.0% (goal: ≤ 1.0%)\u001b[0m\n",
            "\u001b[32m\tadv target accuracy: 100.0% (goal: ≥99.0%)\u001b[0m\n",
            "\u001b[32m\tclean examples detected: 2.5% (goal: ≤5.0%)\u001b[0m\n",
            "\u001b[32m\tadv examples detected: 0.0% (goal: ≤1.0%)\u001b[0m\n",
            "\u001b[32mSUCCESS\u001b[0m\n",
            "=== Evaluating targeted PGD on JPEG defense ===\n",
            "\u001b[32m\tclean accuracy: 94.0%\u001b[0m\n",
            "\u001b[32m\tadv accuracy: 0.0% (goal: ≤ 1.0%)\u001b[0m\n",
            "\u001b[32m\tadv target accuracy: 100.0% (goal: ≥99.0%)\u001b[0m\n",
            "\u001b[32mSUCCESS\u001b[0m\n",
            "=== Evaluating targeted PGD on random defense ===\n",
            "\u001b[32m\tclean accuracy: 96.0%\u001b[0m\n",
            "\u001b[32m\tadv accuracy: 0.5% (goal: ≤ 5.0%)\u001b[0m\n",
            "\u001b[32m\tadv target accuracy: 97.5% (goal: ≥95.0%)\u001b[0m\n",
            "\u001b[32mSUCCESS\u001b[0m\n"
          ]
        }
      ],
      "source": [
        "from infoseclab.evaluation import eval_targeted_pgd, eval_detector_attack, eval_jpeg_attack, eval_random_attack\n",
        "with ZipFile(f\"{RESULTS_PATH}/results.zip\", 'r') as zip:\n",
        "    eval_targeted_pgd(path=zip.open(\"x_adv_targeted.npy\"), device=device)\n",
        "    eval_detector_attack(path=zip.open(\"x_adv_detect.npy\"), device=device)\n",
        "    eval_jpeg_attack(path=zip.open(\"x_adv_jpeg.npy\"), device=device)\n",
        "    eval_random_attack(path=zip.open(\"x_adv_random.npy\"), device=device)"
      ]
    },
    {
      "cell_type": "code",
      "execution_count": null,
      "metadata": {
        "id": "017LYYDcWjy8"
      },
      "outputs": [],
      "source": []
    }
  ],
  "metadata": {
    "colab": {
      "provenance": []
    },
    "gpuClass": "standard",
    "kernelspec": {
      "display_name": "Python 3",
      "name": "python3"
    },
    "language_info": {
      "name": "python"
    },
    "widgets": {
      "application/vnd.jupyter.widget-state+json": {
        "03c53dab6bcc44f9b04014f969a79c7c": {
          "model_module": "@jupyter-widgets/base",
          "model_module_version": "1.2.0",
          "model_name": "LayoutModel",
          "state": {
            "_model_module": "@jupyter-widgets/base",
            "_model_module_version": "1.2.0",
            "_model_name": "LayoutModel",
            "_view_count": null,
            "_view_module": "@jupyter-widgets/base",
            "_view_module_version": "1.2.0",
            "_view_name": "LayoutView",
            "align_content": null,
            "align_items": null,
            "align_self": null,
            "border": null,
            "bottom": null,
            "display": null,
            "flex": null,
            "flex_flow": null,
            "grid_area": null,
            "grid_auto_columns": null,
            "grid_auto_flow": null,
            "grid_auto_rows": null,
            "grid_column": null,
            "grid_gap": null,
            "grid_row": null,
            "grid_template_areas": null,
            "grid_template_columns": null,
            "grid_template_rows": null,
            "height": null,
            "justify_content": null,
            "justify_items": null,
            "left": null,
            "margin": null,
            "max_height": null,
            "max_width": null,
            "min_height": null,
            "min_width": null,
            "object_fit": null,
            "object_position": null,
            "order": null,
            "overflow": null,
            "overflow_x": null,
            "overflow_y": null,
            "padding": null,
            "right": null,
            "top": null,
            "visibility": null,
            "width": null
          }
        },
        "0d9c03f9e6154db1a595a9172cfe014b": {
          "model_module": "@jupyter-widgets/controls",
          "model_module_version": "1.5.0",
          "model_name": "ProgressStyleModel",
          "state": {
            "_model_module": "@jupyter-widgets/controls",
            "_model_module_version": "1.5.0",
            "_model_name": "ProgressStyleModel",
            "_view_count": null,
            "_view_module": "@jupyter-widgets/base",
            "_view_module_version": "1.2.0",
            "_view_name": "StyleView",
            "bar_color": null,
            "description_width": ""
          }
        },
        "151c2fe1f4d44ca5b60e861fc63c55b1": {
          "model_module": "@jupyter-widgets/controls",
          "model_module_version": "1.5.0",
          "model_name": "DescriptionStyleModel",
          "state": {
            "_model_module": "@jupyter-widgets/controls",
            "_model_module_version": "1.5.0",
            "_model_name": "DescriptionStyleModel",
            "_view_count": null,
            "_view_module": "@jupyter-widgets/base",
            "_view_module_version": "1.2.0",
            "_view_name": "StyleView",
            "description_width": ""
          }
        },
        "1c3d25244b1d49c681ffafe137f9f451": {
          "model_module": "@jupyter-widgets/controls",
          "model_module_version": "1.5.0",
          "model_name": "FloatProgressModel",
          "state": {
            "_dom_classes": [],
            "_model_module": "@jupyter-widgets/controls",
            "_model_module_version": "1.5.0",
            "_model_name": "FloatProgressModel",
            "_view_count": null,
            "_view_module": "@jupyter-widgets/controls",
            "_view_module_version": "1.5.0",
            "_view_name": "ProgressView",
            "bar_style": "success",
            "description": "",
            "description_tooltip": null,
            "layout": "IPY_MODEL_858b46fabb034bb49e844c872a1644e6",
            "max": 102530333,
            "min": 0,
            "orientation": "horizontal",
            "style": "IPY_MODEL_72de98ae54f3461b8a82fb0a6b963a0a",
            "value": 102530333
          }
        },
        "1cfeebc9cb474b45ab970a077fbff54d": {
          "model_module": "@jupyter-widgets/controls",
          "model_module_version": "1.5.0",
          "model_name": "DescriptionStyleModel",
          "state": {
            "_model_module": "@jupyter-widgets/controls",
            "_model_module_version": "1.5.0",
            "_model_name": "DescriptionStyleModel",
            "_view_count": null,
            "_view_module": "@jupyter-widgets/base",
            "_view_module_version": "1.2.0",
            "_view_name": "StyleView",
            "description_width": ""
          }
        },
        "2110935fd7cf49ac9ac51c43f1a1a06e": {
          "model_module": "@jupyter-widgets/base",
          "model_module_version": "1.2.0",
          "model_name": "LayoutModel",
          "state": {
            "_model_module": "@jupyter-widgets/base",
            "_model_module_version": "1.2.0",
            "_model_name": "LayoutModel",
            "_view_count": null,
            "_view_module": "@jupyter-widgets/base",
            "_view_module_version": "1.2.0",
            "_view_name": "LayoutView",
            "align_content": null,
            "align_items": null,
            "align_self": null,
            "border": null,
            "bottom": null,
            "display": null,
            "flex": null,
            "flex_flow": null,
            "grid_area": null,
            "grid_auto_columns": null,
            "grid_auto_flow": null,
            "grid_auto_rows": null,
            "grid_column": null,
            "grid_gap": null,
            "grid_row": null,
            "grid_template_areas": null,
            "grid_template_columns": null,
            "grid_template_rows": null,
            "height": null,
            "justify_content": null,
            "justify_items": null,
            "left": null,
            "margin": null,
            "max_height": null,
            "max_width": null,
            "min_height": null,
            "min_width": null,
            "object_fit": null,
            "object_position": null,
            "order": null,
            "overflow": null,
            "overflow_x": null,
            "overflow_y": null,
            "padding": null,
            "right": null,
            "top": null,
            "visibility": null,
            "width": null
          }
        },
        "240f3fb56cfc4617989ae5b1d3b5c7a8": {
          "model_module": "@jupyter-widgets/controls",
          "model_module_version": "1.5.0",
          "model_name": "DescriptionStyleModel",
          "state": {
            "_model_module": "@jupyter-widgets/controls",
            "_model_module_version": "1.5.0",
            "_model_name": "DescriptionStyleModel",
            "_view_count": null,
            "_view_module": "@jupyter-widgets/base",
            "_view_module_version": "1.2.0",
            "_view_name": "StyleView",
            "description_width": ""
          }
        },
        "2901e580c30b4f9e9668be94883beeb6": {
          "model_module": "@jupyter-widgets/controls",
          "model_module_version": "1.5.0",
          "model_name": "DescriptionStyleModel",
          "state": {
            "_model_module": "@jupyter-widgets/controls",
            "_model_module_version": "1.5.0",
            "_model_name": "DescriptionStyleModel",
            "_view_count": null,
            "_view_module": "@jupyter-widgets/base",
            "_view_module_version": "1.2.0",
            "_view_name": "StyleView",
            "description_width": ""
          }
        },
        "2cb80935b23140c7a4d79be92e6adad5": {
          "model_module": "@jupyter-widgets/controls",
          "model_module_version": "1.5.0",
          "model_name": "HTMLModel",
          "state": {
            "_dom_classes": [],
            "_model_module": "@jupyter-widgets/controls",
            "_model_module_version": "1.5.0",
            "_model_name": "HTMLModel",
            "_view_count": null,
            "_view_module": "@jupyter-widgets/controls",
            "_view_module_version": "1.5.0",
            "_view_name": "HTMLView",
            "description": "",
            "description_tooltip": null,
            "layout": "IPY_MODEL_793bd08559a144cba25683095da5a312",
            "placeholder": "​",
            "style": "IPY_MODEL_d4fea336db904e20acd6c1d2fa598256",
            "value": "100%"
          }
        },
        "31c8f0572b474ab68a1415f92dbf95de": {
          "model_module": "@jupyter-widgets/base",
          "model_module_version": "1.2.0",
          "model_name": "LayoutModel",
          "state": {
            "_model_module": "@jupyter-widgets/base",
            "_model_module_version": "1.2.0",
            "_model_name": "LayoutModel",
            "_view_count": null,
            "_view_module": "@jupyter-widgets/base",
            "_view_module_version": "1.2.0",
            "_view_name": "LayoutView",
            "align_content": null,
            "align_items": null,
            "align_self": null,
            "border": null,
            "bottom": null,
            "display": null,
            "flex": null,
            "flex_flow": null,
            "grid_area": null,
            "grid_auto_columns": null,
            "grid_auto_flow": null,
            "grid_auto_rows": null,
            "grid_column": null,
            "grid_gap": null,
            "grid_row": null,
            "grid_template_areas": null,
            "grid_template_columns": null,
            "grid_template_rows": null,
            "height": null,
            "justify_content": null,
            "justify_items": null,
            "left": null,
            "margin": null,
            "max_height": null,
            "max_width": null,
            "min_height": null,
            "min_width": null,
            "object_fit": null,
            "object_position": null,
            "order": null,
            "overflow": null,
            "overflow_x": null,
            "overflow_y": null,
            "padding": null,
            "right": null,
            "top": null,
            "visibility": null,
            "width": null
          }
        },
        "365d1d261f70486ab2cea161ee6eb1a1": {
          "model_module": "@jupyter-widgets/base",
          "model_module_version": "1.2.0",
          "model_name": "LayoutModel",
          "state": {
            "_model_module": "@jupyter-widgets/base",
            "_model_module_version": "1.2.0",
            "_model_name": "LayoutModel",
            "_view_count": null,
            "_view_module": "@jupyter-widgets/base",
            "_view_module_version": "1.2.0",
            "_view_name": "LayoutView",
            "align_content": null,
            "align_items": null,
            "align_self": null,
            "border": null,
            "bottom": null,
            "display": null,
            "flex": null,
            "flex_flow": null,
            "grid_area": null,
            "grid_auto_columns": null,
            "grid_auto_flow": null,
            "grid_auto_rows": null,
            "grid_column": null,
            "grid_gap": null,
            "grid_row": null,
            "grid_template_areas": null,
            "grid_template_columns": null,
            "grid_template_rows": null,
            "height": null,
            "justify_content": null,
            "justify_items": null,
            "left": null,
            "margin": null,
            "max_height": null,
            "max_width": null,
            "min_height": null,
            "min_width": null,
            "object_fit": null,
            "object_position": null,
            "order": null,
            "overflow": null,
            "overflow_x": null,
            "overflow_y": null,
            "padding": null,
            "right": null,
            "top": null,
            "visibility": null,
            "width": null
          }
        },
        "38e36a7227a44ddab61cd02108c3d374": {
          "model_module": "@jupyter-widgets/controls",
          "model_module_version": "1.5.0",
          "model_name": "HTMLModel",
          "state": {
            "_dom_classes": [],
            "_model_module": "@jupyter-widgets/controls",
            "_model_module_version": "1.5.0",
            "_model_name": "HTMLModel",
            "_view_count": null,
            "_view_module": "@jupyter-widgets/controls",
            "_view_module_version": "1.5.0",
            "_view_name": "HTMLView",
            "description": "",
            "description_tooltip": null,
            "layout": "IPY_MODEL_03c53dab6bcc44f9b04014f969a79c7c",
            "placeholder": "​",
            "style": "IPY_MODEL_240f3fb56cfc4617989ae5b1d3b5c7a8",
            "value": " 97.8M/97.8M [00:00&lt;00:00, 205MB/s]"
          }
        },
        "45823c1d397c41b8beced2004a519c67": {
          "model_module": "@jupyter-widgets/controls",
          "model_module_version": "1.5.0",
          "model_name": "HBoxModel",
          "state": {
            "_dom_classes": [],
            "_model_module": "@jupyter-widgets/controls",
            "_model_module_version": "1.5.0",
            "_model_name": "HBoxModel",
            "_view_count": null,
            "_view_module": "@jupyter-widgets/controls",
            "_view_module_version": "1.5.0",
            "_view_name": "HBoxView",
            "box_style": "",
            "children": [
              "IPY_MODEL_2cb80935b23140c7a4d79be92e6adad5",
              "IPY_MODEL_b2aea969dac94071854b59307d3a27fb",
              "IPY_MODEL_72c382b98c494ca5a7c5d9f76836875d"
            ],
            "layout": "IPY_MODEL_2110935fd7cf49ac9ac51c43f1a1a06e"
          }
        },
        "5787089320b4421a977dd69ea6e9c81f": {
          "model_module": "@jupyter-widgets/controls",
          "model_module_version": "1.5.0",
          "model_name": "HTMLModel",
          "state": {
            "_dom_classes": [],
            "_model_module": "@jupyter-widgets/controls",
            "_model_module_version": "1.5.0",
            "_model_name": "HTMLModel",
            "_view_count": null,
            "_view_module": "@jupyter-widgets/controls",
            "_view_module_version": "1.5.0",
            "_view_name": "HTMLView",
            "description": "",
            "description_tooltip": null,
            "layout": "IPY_MODEL_c709afe60bd744a39f1e1497647b439e",
            "placeholder": "​",
            "style": "IPY_MODEL_2901e580c30b4f9e9668be94883beeb6",
            "value": " 97.8M/97.8M [00:01&lt;00:00, 66.0MB/s]"
          }
        },
        "5e80129a3e504e00a4c4fa96e1de0b71": {
          "model_module": "@jupyter-widgets/controls",
          "model_module_version": "1.5.0",
          "model_name": "HTMLModel",
          "state": {
            "_dom_classes": [],
            "_model_module": "@jupyter-widgets/controls",
            "_model_module_version": "1.5.0",
            "_model_name": "HTMLModel",
            "_view_count": null,
            "_view_module": "@jupyter-widgets/controls",
            "_view_module_version": "1.5.0",
            "_view_name": "HTMLView",
            "description": "",
            "description_tooltip": null,
            "layout": "IPY_MODEL_365d1d261f70486ab2cea161ee6eb1a1",
            "placeholder": "​",
            "style": "IPY_MODEL_1cfeebc9cb474b45ab970a077fbff54d",
            "value": "100%"
          }
        },
        "6549acccd4b64639bf120f074238a521": {
          "model_module": "@jupyter-widgets/controls",
          "model_module_version": "1.5.0",
          "model_name": "HBoxModel",
          "state": {
            "_dom_classes": [],
            "_model_module": "@jupyter-widgets/controls",
            "_model_module_version": "1.5.0",
            "_model_name": "HBoxModel",
            "_view_count": null,
            "_view_module": "@jupyter-widgets/controls",
            "_view_module_version": "1.5.0",
            "_view_name": "HBoxView",
            "box_style": "",
            "children": [
              "IPY_MODEL_5e80129a3e504e00a4c4fa96e1de0b71",
              "IPY_MODEL_c7c438419df043cdab28861ec81d3ff3",
              "IPY_MODEL_5787089320b4421a977dd69ea6e9c81f"
            ],
            "layout": "IPY_MODEL_9a3f54b0731243c183b60c7dea5783f7"
          }
        },
        "72c382b98c494ca5a7c5d9f76836875d": {
          "model_module": "@jupyter-widgets/controls",
          "model_module_version": "1.5.0",
          "model_name": "HTMLModel",
          "state": {
            "_dom_classes": [],
            "_model_module": "@jupyter-widgets/controls",
            "_model_module_version": "1.5.0",
            "_model_name": "HTMLModel",
            "_view_count": null,
            "_view_module": "@jupyter-widgets/controls",
            "_view_module_version": "1.5.0",
            "_view_name": "HTMLView",
            "description": "",
            "description_tooltip": null,
            "layout": "IPY_MODEL_31c8f0572b474ab68a1415f92dbf95de",
            "placeholder": "​",
            "style": "IPY_MODEL_151c2fe1f4d44ca5b60e861fc63c55b1",
            "value": " 97.8M/97.8M [00:00&lt;00:00, 195MB/s]"
          }
        },
        "72de98ae54f3461b8a82fb0a6b963a0a": {
          "model_module": "@jupyter-widgets/controls",
          "model_module_version": "1.5.0",
          "model_name": "ProgressStyleModel",
          "state": {
            "_model_module": "@jupyter-widgets/controls",
            "_model_module_version": "1.5.0",
            "_model_name": "ProgressStyleModel",
            "_view_count": null,
            "_view_module": "@jupyter-widgets/base",
            "_view_module_version": "1.2.0",
            "_view_name": "StyleView",
            "bar_color": null,
            "description_width": ""
          }
        },
        "73e3a48f66bb45b0bb3895768a444fc5": {
          "model_module": "@jupyter-widgets/base",
          "model_module_version": "1.2.0",
          "model_name": "LayoutModel",
          "state": {
            "_model_module": "@jupyter-widgets/base",
            "_model_module_version": "1.2.0",
            "_model_name": "LayoutModel",
            "_view_count": null,
            "_view_module": "@jupyter-widgets/base",
            "_view_module_version": "1.2.0",
            "_view_name": "LayoutView",
            "align_content": null,
            "align_items": null,
            "align_self": null,
            "border": null,
            "bottom": null,
            "display": null,
            "flex": null,
            "flex_flow": null,
            "grid_area": null,
            "grid_auto_columns": null,
            "grid_auto_flow": null,
            "grid_auto_rows": null,
            "grid_column": null,
            "grid_gap": null,
            "grid_row": null,
            "grid_template_areas": null,
            "grid_template_columns": null,
            "grid_template_rows": null,
            "height": null,
            "justify_content": null,
            "justify_items": null,
            "left": null,
            "margin": null,
            "max_height": null,
            "max_width": null,
            "min_height": null,
            "min_width": null,
            "object_fit": null,
            "object_position": null,
            "order": null,
            "overflow": null,
            "overflow_x": null,
            "overflow_y": null,
            "padding": null,
            "right": null,
            "top": null,
            "visibility": null,
            "width": null
          }
        },
        "793bd08559a144cba25683095da5a312": {
          "model_module": "@jupyter-widgets/base",
          "model_module_version": "1.2.0",
          "model_name": "LayoutModel",
          "state": {
            "_model_module": "@jupyter-widgets/base",
            "_model_module_version": "1.2.0",
            "_model_name": "LayoutModel",
            "_view_count": null,
            "_view_module": "@jupyter-widgets/base",
            "_view_module_version": "1.2.0",
            "_view_name": "LayoutView",
            "align_content": null,
            "align_items": null,
            "align_self": null,
            "border": null,
            "bottom": null,
            "display": null,
            "flex": null,
            "flex_flow": null,
            "grid_area": null,
            "grid_auto_columns": null,
            "grid_auto_flow": null,
            "grid_auto_rows": null,
            "grid_column": null,
            "grid_gap": null,
            "grid_row": null,
            "grid_template_areas": null,
            "grid_template_columns": null,
            "grid_template_rows": null,
            "height": null,
            "justify_content": null,
            "justify_items": null,
            "left": null,
            "margin": null,
            "max_height": null,
            "max_width": null,
            "min_height": null,
            "min_width": null,
            "object_fit": null,
            "object_position": null,
            "order": null,
            "overflow": null,
            "overflow_x": null,
            "overflow_y": null,
            "padding": null,
            "right": null,
            "top": null,
            "visibility": null,
            "width": null
          }
        },
        "79769062cff14dd18ac86a840aae1457": {
          "model_module": "@jupyter-widgets/base",
          "model_module_version": "1.2.0",
          "model_name": "LayoutModel",
          "state": {
            "_model_module": "@jupyter-widgets/base",
            "_model_module_version": "1.2.0",
            "_model_name": "LayoutModel",
            "_view_count": null,
            "_view_module": "@jupyter-widgets/base",
            "_view_module_version": "1.2.0",
            "_view_name": "LayoutView",
            "align_content": null,
            "align_items": null,
            "align_self": null,
            "border": null,
            "bottom": null,
            "display": null,
            "flex": null,
            "flex_flow": null,
            "grid_area": null,
            "grid_auto_columns": null,
            "grid_auto_flow": null,
            "grid_auto_rows": null,
            "grid_column": null,
            "grid_gap": null,
            "grid_row": null,
            "grid_template_areas": null,
            "grid_template_columns": null,
            "grid_template_rows": null,
            "height": null,
            "justify_content": null,
            "justify_items": null,
            "left": null,
            "margin": null,
            "max_height": null,
            "max_width": null,
            "min_height": null,
            "min_width": null,
            "object_fit": null,
            "object_position": null,
            "order": null,
            "overflow": null,
            "overflow_x": null,
            "overflow_y": null,
            "padding": null,
            "right": null,
            "top": null,
            "visibility": null,
            "width": null
          }
        },
        "7a2e0fc032e444b7a82f30c45244c3f8": {
          "model_module": "@jupyter-widgets/controls",
          "model_module_version": "1.5.0",
          "model_name": "HTMLModel",
          "state": {
            "_dom_classes": [],
            "_model_module": "@jupyter-widgets/controls",
            "_model_module_version": "1.5.0",
            "_model_name": "HTMLModel",
            "_view_count": null,
            "_view_module": "@jupyter-widgets/controls",
            "_view_module_version": "1.5.0",
            "_view_name": "HTMLView",
            "description": "",
            "description_tooltip": null,
            "layout": "IPY_MODEL_79769062cff14dd18ac86a840aae1457",
            "placeholder": "​",
            "style": "IPY_MODEL_eea8470d0eab40ef91c1579b842dc145",
            "value": "100%"
          }
        },
        "84b3d28bdebb4ff697ec66b1f286f51b": {
          "model_module": "@jupyter-widgets/base",
          "model_module_version": "1.2.0",
          "model_name": "LayoutModel",
          "state": {
            "_model_module": "@jupyter-widgets/base",
            "_model_module_version": "1.2.0",
            "_model_name": "LayoutModel",
            "_view_count": null,
            "_view_module": "@jupyter-widgets/base",
            "_view_module_version": "1.2.0",
            "_view_name": "LayoutView",
            "align_content": null,
            "align_items": null,
            "align_self": null,
            "border": null,
            "bottom": null,
            "display": null,
            "flex": null,
            "flex_flow": null,
            "grid_area": null,
            "grid_auto_columns": null,
            "grid_auto_flow": null,
            "grid_auto_rows": null,
            "grid_column": null,
            "grid_gap": null,
            "grid_row": null,
            "grid_template_areas": null,
            "grid_template_columns": null,
            "grid_template_rows": null,
            "height": null,
            "justify_content": null,
            "justify_items": null,
            "left": null,
            "margin": null,
            "max_height": null,
            "max_width": null,
            "min_height": null,
            "min_width": null,
            "object_fit": null,
            "object_position": null,
            "order": null,
            "overflow": null,
            "overflow_x": null,
            "overflow_y": null,
            "padding": null,
            "right": null,
            "top": null,
            "visibility": null,
            "width": null
          }
        },
        "858b46fabb034bb49e844c872a1644e6": {
          "model_module": "@jupyter-widgets/base",
          "model_module_version": "1.2.0",
          "model_name": "LayoutModel",
          "state": {
            "_model_module": "@jupyter-widgets/base",
            "_model_module_version": "1.2.0",
            "_model_name": "LayoutModel",
            "_view_count": null,
            "_view_module": "@jupyter-widgets/base",
            "_view_module_version": "1.2.0",
            "_view_name": "LayoutView",
            "align_content": null,
            "align_items": null,
            "align_self": null,
            "border": null,
            "bottom": null,
            "display": null,
            "flex": null,
            "flex_flow": null,
            "grid_area": null,
            "grid_auto_columns": null,
            "grid_auto_flow": null,
            "grid_auto_rows": null,
            "grid_column": null,
            "grid_gap": null,
            "grid_row": null,
            "grid_template_areas": null,
            "grid_template_columns": null,
            "grid_template_rows": null,
            "height": null,
            "justify_content": null,
            "justify_items": null,
            "left": null,
            "margin": null,
            "max_height": null,
            "max_width": null,
            "min_height": null,
            "min_width": null,
            "object_fit": null,
            "object_position": null,
            "order": null,
            "overflow": null,
            "overflow_x": null,
            "overflow_y": null,
            "padding": null,
            "right": null,
            "top": null,
            "visibility": null,
            "width": null
          }
        },
        "9a3f54b0731243c183b60c7dea5783f7": {
          "model_module": "@jupyter-widgets/base",
          "model_module_version": "1.2.0",
          "model_name": "LayoutModel",
          "state": {
            "_model_module": "@jupyter-widgets/base",
            "_model_module_version": "1.2.0",
            "_model_name": "LayoutModel",
            "_view_count": null,
            "_view_module": "@jupyter-widgets/base",
            "_view_module_version": "1.2.0",
            "_view_name": "LayoutView",
            "align_content": null,
            "align_items": null,
            "align_self": null,
            "border": null,
            "bottom": null,
            "display": null,
            "flex": null,
            "flex_flow": null,
            "grid_area": null,
            "grid_auto_columns": null,
            "grid_auto_flow": null,
            "grid_auto_rows": null,
            "grid_column": null,
            "grid_gap": null,
            "grid_row": null,
            "grid_template_areas": null,
            "grid_template_columns": null,
            "grid_template_rows": null,
            "height": null,
            "justify_content": null,
            "justify_items": null,
            "left": null,
            "margin": null,
            "max_height": null,
            "max_width": null,
            "min_height": null,
            "min_width": null,
            "object_fit": null,
            "object_position": null,
            "order": null,
            "overflow": null,
            "overflow_x": null,
            "overflow_y": null,
            "padding": null,
            "right": null,
            "top": null,
            "visibility": null,
            "width": null
          }
        },
        "abbbc4acadd0433889a3e7b4dabdb544": {
          "model_module": "@jupyter-widgets/base",
          "model_module_version": "1.2.0",
          "model_name": "LayoutModel",
          "state": {
            "_model_module": "@jupyter-widgets/base",
            "_model_module_version": "1.2.0",
            "_model_name": "LayoutModel",
            "_view_count": null,
            "_view_module": "@jupyter-widgets/base",
            "_view_module_version": "1.2.0",
            "_view_name": "LayoutView",
            "align_content": null,
            "align_items": null,
            "align_self": null,
            "border": null,
            "bottom": null,
            "display": null,
            "flex": null,
            "flex_flow": null,
            "grid_area": null,
            "grid_auto_columns": null,
            "grid_auto_flow": null,
            "grid_auto_rows": null,
            "grid_column": null,
            "grid_gap": null,
            "grid_row": null,
            "grid_template_areas": null,
            "grid_template_columns": null,
            "grid_template_rows": null,
            "height": null,
            "justify_content": null,
            "justify_items": null,
            "left": null,
            "margin": null,
            "max_height": null,
            "max_width": null,
            "min_height": null,
            "min_width": null,
            "object_fit": null,
            "object_position": null,
            "order": null,
            "overflow": null,
            "overflow_x": null,
            "overflow_y": null,
            "padding": null,
            "right": null,
            "top": null,
            "visibility": null,
            "width": null
          }
        },
        "b2aea969dac94071854b59307d3a27fb": {
          "model_module": "@jupyter-widgets/controls",
          "model_module_version": "1.5.0",
          "model_name": "FloatProgressModel",
          "state": {
            "_dom_classes": [],
            "_model_module": "@jupyter-widgets/controls",
            "_model_module_version": "1.5.0",
            "_model_name": "FloatProgressModel",
            "_view_count": null,
            "_view_module": "@jupyter-widgets/controls",
            "_view_module_version": "1.5.0",
            "_view_name": "ProgressView",
            "bar_style": "success",
            "description": "",
            "description_tooltip": null,
            "layout": "IPY_MODEL_abbbc4acadd0433889a3e7b4dabdb544",
            "max": 102530333,
            "min": 0,
            "orientation": "horizontal",
            "style": "IPY_MODEL_b75c4b952c1441b58dc21d3d754c2b35",
            "value": 102530333
          }
        },
        "b75c4b952c1441b58dc21d3d754c2b35": {
          "model_module": "@jupyter-widgets/controls",
          "model_module_version": "1.5.0",
          "model_name": "ProgressStyleModel",
          "state": {
            "_model_module": "@jupyter-widgets/controls",
            "_model_module_version": "1.5.0",
            "_model_name": "ProgressStyleModel",
            "_view_count": null,
            "_view_module": "@jupyter-widgets/base",
            "_view_module_version": "1.2.0",
            "_view_name": "StyleView",
            "bar_color": null,
            "description_width": ""
          }
        },
        "c709afe60bd744a39f1e1497647b439e": {
          "model_module": "@jupyter-widgets/base",
          "model_module_version": "1.2.0",
          "model_name": "LayoutModel",
          "state": {
            "_model_module": "@jupyter-widgets/base",
            "_model_module_version": "1.2.0",
            "_model_name": "LayoutModel",
            "_view_count": null,
            "_view_module": "@jupyter-widgets/base",
            "_view_module_version": "1.2.0",
            "_view_name": "LayoutView",
            "align_content": null,
            "align_items": null,
            "align_self": null,
            "border": null,
            "bottom": null,
            "display": null,
            "flex": null,
            "flex_flow": null,
            "grid_area": null,
            "grid_auto_columns": null,
            "grid_auto_flow": null,
            "grid_auto_rows": null,
            "grid_column": null,
            "grid_gap": null,
            "grid_row": null,
            "grid_template_areas": null,
            "grid_template_columns": null,
            "grid_template_rows": null,
            "height": null,
            "justify_content": null,
            "justify_items": null,
            "left": null,
            "margin": null,
            "max_height": null,
            "max_width": null,
            "min_height": null,
            "min_width": null,
            "object_fit": null,
            "object_position": null,
            "order": null,
            "overflow": null,
            "overflow_x": null,
            "overflow_y": null,
            "padding": null,
            "right": null,
            "top": null,
            "visibility": null,
            "width": null
          }
        },
        "c7c438419df043cdab28861ec81d3ff3": {
          "model_module": "@jupyter-widgets/controls",
          "model_module_version": "1.5.0",
          "model_name": "FloatProgressModel",
          "state": {
            "_dom_classes": [],
            "_model_module": "@jupyter-widgets/controls",
            "_model_module_version": "1.5.0",
            "_model_name": "FloatProgressModel",
            "_view_count": null,
            "_view_module": "@jupyter-widgets/controls",
            "_view_module_version": "1.5.0",
            "_view_name": "ProgressView",
            "bar_style": "success",
            "description": "",
            "description_tooltip": null,
            "layout": "IPY_MODEL_84b3d28bdebb4ff697ec66b1f286f51b",
            "max": 102530333,
            "min": 0,
            "orientation": "horizontal",
            "style": "IPY_MODEL_0d9c03f9e6154db1a595a9172cfe014b",
            "value": 102530333
          }
        },
        "d4fea336db904e20acd6c1d2fa598256": {
          "model_module": "@jupyter-widgets/controls",
          "model_module_version": "1.5.0",
          "model_name": "DescriptionStyleModel",
          "state": {
            "_model_module": "@jupyter-widgets/controls",
            "_model_module_version": "1.5.0",
            "_model_name": "DescriptionStyleModel",
            "_view_count": null,
            "_view_module": "@jupyter-widgets/base",
            "_view_module_version": "1.2.0",
            "_view_name": "StyleView",
            "description_width": ""
          }
        },
        "e96cfe06267e417a8af6ca23cf89bf2c": {
          "model_module": "@jupyter-widgets/controls",
          "model_module_version": "1.5.0",
          "model_name": "HBoxModel",
          "state": {
            "_dom_classes": [],
            "_model_module": "@jupyter-widgets/controls",
            "_model_module_version": "1.5.0",
            "_model_name": "HBoxModel",
            "_view_count": null,
            "_view_module": "@jupyter-widgets/controls",
            "_view_module_version": "1.5.0",
            "_view_name": "HBoxView",
            "box_style": "",
            "children": [
              "IPY_MODEL_7a2e0fc032e444b7a82f30c45244c3f8",
              "IPY_MODEL_1c3d25244b1d49c681ffafe137f9f451",
              "IPY_MODEL_38e36a7227a44ddab61cd02108c3d374"
            ],
            "layout": "IPY_MODEL_73e3a48f66bb45b0bb3895768a444fc5"
          }
        },
        "eea8470d0eab40ef91c1579b842dc145": {
          "model_module": "@jupyter-widgets/controls",
          "model_module_version": "1.5.0",
          "model_name": "DescriptionStyleModel",
          "state": {
            "_model_module": "@jupyter-widgets/controls",
            "_model_module_version": "1.5.0",
            "_model_name": "DescriptionStyleModel",
            "_view_count": null,
            "_view_module": "@jupyter-widgets/base",
            "_view_module_version": "1.2.0",
            "_view_name": "StyleView",
            "description_width": ""
          }
        }
      }
    },
    "accelerator": "GPU"
  },
  "nbformat": 4,
  "nbformat_minor": 0
}